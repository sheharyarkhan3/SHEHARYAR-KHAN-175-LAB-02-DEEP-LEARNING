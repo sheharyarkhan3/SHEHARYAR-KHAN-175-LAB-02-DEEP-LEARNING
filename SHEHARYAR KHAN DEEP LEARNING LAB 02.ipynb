{
 "cells": [
  {
   "cell_type": "code",
   "execution_count": 2,
   "id": "64199fd8-2d9c-49ff-b1a1-661d8663bc6d",
   "metadata": {},
   "outputs": [
    {
     "name": "stdout",
     "output_type": "stream",
     "text": [
      "step_funtion outputs: [0.0, 0.0, 1.0, 1.0, 1.0]\n"
     ]
    }
   ],
   "source": [
    "import math\n",
    "\n",
    "def step_function(x):\n",
    "    return 1.0 if x >= 0 else 0.0\n",
    "\n",
    "#TEST\n",
    "inputs = [-3.0,-1.0,0.0,2.0,5.0]\n",
    "outputs=[step_function(x) for x in inputs]\n",
    "print(\"step_funtion outputs:\" , outputs)"
   ]
  },
  {
   "cell_type": "code",
   "execution_count": 17,
   "id": "ddc81fe8-ca10-4f3b-b618-b753cf20bcd2",
   "metadata": {},
   "outputs": [
    {
     "ename": "ModuleNotFoundError",
     "evalue": "No module named 'Tensorflow'",
     "output_type": "error",
     "traceback": [
      "\u001b[1;31m---------------------------------------------------------------------------\u001b[0m",
      "\u001b[1;31mModuleNotFoundError\u001b[0m                       Traceback (most recent call last)",
      "Cell \u001b[1;32mIn[17], line 1\u001b[0m\n\u001b[1;32m----> 1\u001b[0m \u001b[38;5;28;01mimport\u001b[39;00m \u001b[38;5;21;01mTensorflow\u001b[39;00m \u001b[38;5;28;01mas\u001b[39;00m \u001b[38;5;21;01mtf\u001b[39;00m\n\u001b[0;32m      2\u001b[0m \u001b[38;5;28;01mdef\u001b[39;00m \u001b[38;5;21mtf_step_function\u001b[39m(x):\n\u001b[0;32m      3\u001b[0m      \u001b[38;5;28;01mreturn\u001b[39;00m tf\u001b[38;5;241m.\u001b[39mcast(tf\u001b[38;5;241m.\u001b[39mmath\u001b[38;5;241m.\u001b[39mgreater_equal(x,\u001b[38;5;241m0\u001b[39m),tf\u001b[38;5;241m.\u001b[39mfloat32)\n",
      "\u001b[1;31mModuleNotFoundError\u001b[0m: No module named 'Tensorflow'"
     ]
    }
   ],
   "source": [
    "import Tensorflow as tf\n",
    "def tf_step_function(x):\n",
    "     return tf.cast(tf.math.greater_equal(x,0),tf.float32)\n",
    "\n",
    "#test\n",
    "x = tf.constant([-3.0,-1.0,0.0,2.0,5.0])\n",
    "print(\"Tensorflow step output:\",tf_step_function(x).numpy())\n",
    "\n",
    "#visualization\n",
    "import matplotlib.pyplot as plt\n",
    "import numpy as np\n",
    "\n",
    "x_vals = np.linspace (-5 , 5 , 100)\n",
    "y_vals = [step_function(val) for val in x_vals]\n",
    "plt.plot (x_vals,y_vals)\n",
    "plt.title(\"Step Funtion\")\n",
    "plt.show()\n"
   ]
  },
  {
   "cell_type": "code",
   "execution_count": null,
   "id": "4f5a55ae-375a-4b77-ae37-1eaebf5f6320",
   "metadata": {},
   "outputs": [],
   "source": []
  }
 ],
 "metadata": {
  "kernelspec": {
   "display_name": "Python 3 (ipykernel)",
   "language": "python",
   "name": "python3"
  },
  "language_info": {
   "codemirror_mode": {
    "name": "ipython",
    "version": 3
   },
   "file_extension": ".py",
   "mimetype": "text/x-python",
   "name": "python",
   "nbconvert_exporter": "python",
   "pygments_lexer": "ipython3",
   "version": "3.12.7"
  }
 },
 "nbformat": 4,
 "nbformat_minor": 5
}
